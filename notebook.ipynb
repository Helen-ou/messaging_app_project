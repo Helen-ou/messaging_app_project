{
 "cells": [
  {
   "cell_type": "markdown",
   "metadata": {},
   "source": [
    "# Contribution\n",
    "\n",
    "## Hélène DESROCHES\n",
    "\n",
    "- Prototype (première étape du projet)\n",
    "- Partie chiffrement Caesar de la partie Chiffrement Symétrique (2)\n",
    "- Tout Secure Symétrique (3)\n",
    "- Tout Attaque Symétrique (4)\n",
    "- Partiellement Symétrique AES (5)\n",
    "- Partiellement MITM (6)\n",
    "- Notebook\n",
    "- Partiellement rapport\n",
    "- Cryptopals jusqu'au 6ème du premier set\n",
    "- El manifecto fait en équipe\n",
    "\n",
    "## Marie MULLER\n",
    "\n",
    "- Canva + Rapport partiellement\n",
    "- Chiffrement Vigénère\n",
    "- Chiffrement AES \n",
    "- Chiffrement RSA\n",
    "- El manifesto en équipe\n",
    "- Polybe en équipe\n",
    "- MITM en grande partie\n",
    "- Cryptopal set 1 (7 et 8)\n",
    "\n",
    "## Fanny KOCH\n",
    "\n",
    "- Création de l'interface graphique avec Tkinter\n",
    "- Set up de l'interface graphique sur tous les niveaux de chiffrement\n",
    "- Quelques challenges cryptopals de mon coté\n",
    "- El manifecto fait en équipe\n",
    "- Polybe fait en équipe\n",
    "- Partiellement rapport"
   ]
  },
  {
   "cell_type": "markdown",
   "metadata": {},
   "source": [
    "# Défis Cryptopal  \n",
    "\n",
    "Le set 1 a été complété\n",
    "-\n",
    "\n",
    "- A noter que le kernel \"Python 3.12.5\" doit être utilisé"
   ]
  },
  {
   "cell_type": "markdown",
   "metadata": {},
   "source": [
    "## Convert hex to base64\n",
    "\n",
    "Notre code convertit une chaîne hexadécimale en base64. Il décode d'abord la chaîne hexadécimale en octets, puis l'encode en base64 et affiche le résultat. Il se sert de la bibliothèque b64encode. \n"
   ]
  },
  {
   "cell_type": "code",
   "execution_count": 19,
   "metadata": {},
   "outputs": [
    {
     "name": "stdout",
     "output_type": "stream",
     "text": [
      "SSdtIGtpbGxpbmcgeW91ciBicmFpbiBsaWtlIGEgcG9pc29ub3VzIG11c2hyb29t\n"
     ]
    }
   ],
   "source": [
    "from base64 import b64encode\n",
    "hex_str = b\"49276d206b696c6c696e6720796f757220627261696e206c696b65206120706f69736f6e6f7573206d757368726f6f6d\"\n",
    "print(b64encode(bytes.fromhex(hex_str.decode())).decode())"
   ]
  },
  {
   "cell_type": "markdown",
   "metadata": {},
   "source": [
    "## Fixed XOR\n",
    "\n",
    "Notre code effectue un XOR bit à bit entre ‘input_hex’ et ‘input_key’. Il convertit d'abord ces chaînes hexadécimales en entiers, applique l'opération XOR, puis convertit le résultat en hexadécimal. Enfin, il enlève le préfixe \"0x\" et affiche la sortie."
   ]
  },
  {
   "cell_type": "code",
   "execution_count": 20,
   "metadata": {},
   "outputs": [
    {
     "name": "stdout",
     "output_type": "stream",
     "text": [
      "746865206b696420646f6e277420706c6179\n"
     ]
    }
   ],
   "source": [
    "input_hex = \"0x1c0111001f010100061a024b53535009181c\"\n",
    "input_key = \"0x686974207468652062756c6c277320657965\"\n",
    "\n",
    "x = hex(int(input_hex, 16) ^ int(input_key, 16))[2:]\n",
    "print(x)"
   ]
  },
  {
   "cell_type": "markdown",
   "metadata": {},
   "source": [
    "## Single-byte XOR cipher\n",
    "\n",
    "Notre code décrypte une chaîne hexadécimale chiffrée par XOR avec un seul caractère en testant chaque lettre de ‘alphabet’. Il initialise une liste ‘xor_array’ pour stocker les résultats. Il parcourt chaque lettre de ‘alphabet’ et initialise ‘xored_input’ pour stocker le texte XORé. \n",
    "Il traite ‘input_hex’ deux caractères à la fois (chaque octet en hexadécimal), le convertit en entier, applique un XOR avec le code ASCII de la lettre courante, et reconverti en caractère. Si le texte déchiffré contient un espace (indiquant un texte lisible), il est ajouté à `xor_array` avec la clé utilisée. Il affiche ensuite les résultats et le temps d'exécution."
   ]
  },
  {
   "cell_type": "code",
   "execution_count": 21,
   "metadata": {},
   "outputs": [
    {
     "name": "stdout",
     "output_type": "stream",
     "text": [
      "[[\"Cooking MC's like a pound of bacon\", 'X']]\n",
      "--- 0.0 seconds ---\n"
     ]
    }
   ],
   "source": [
    "import time \n",
    "\n",
    "input_hex = \"1b37373331363f78151b7f2b783431333d78397828372d363c78373e783a393b3736\"\n",
    "alphabet = \"ABCDEFGHIJKLMNOPQRSTUVWXYZ\"\n",
    "\n",
    "start_time = time.time()\n",
    "\n",
    "def print_xored_input_from_alphabet(input_hex, alphabet):\n",
    "    xor_array = []\n",
    "    for letter in alphabet:\n",
    "        xored_input = \"\"\n",
    "        for i in range(0, len(input_hex), 2):\n",
    "            xored_input += chr(int(input_hex[i:i+2], 16) ^ ord(letter))\n",
    "        if xored_input.count(\" \") > 0:\n",
    "            xored_input = xor_array.append([xored_input, letter])\n",
    "    return xor_array\n",
    "\n",
    "print(print_xored_input_from_alphabet(input_hex, alphabet))\n",
    "\n",
    "print(\"--- %s seconds ---\" % (time.time() - start_time))\n",
    "# Cooking MC's like a pound of bacon"
   ]
  },
  {
   "cell_type": "markdown",
   "metadata": {},
   "source": [
    "## Detect single-character XOR\n",
    "\n",
    "Nous avons écrit ce code pour tenter de décrypter des chaînes hexadécimales chiffrées avec un XOR utilisant un seul octet. Il commence par ouvrir dat_4.txt et lire chaque ligne pour récupérer une liste de chaînes hexadécimales. Ensuite, nous définissons un alphabet composé des lettres majuscules, minuscules et des chiffres, car une clé XOR est souvent un caractère imprimable.  \n",
    "Pour chaque caractère de cet alphabet, nous appliquons un XOR sur chaque ligne du fichier. Nous parcourons chaque paire de caractères hexadécimaux, la convertissons en un entier, puis effectuons un XOR avec le code ASCII du caractère en cours de test. Nous reconstruisons ensuite une chaîne de caractères à partir du résultat obtenu.  \n",
    "Si le texte déchiffré contient plus de trois espaces, nous supposons qu’il pourrait être lisible et l’ajoutons à la liste des résultats avec l’indice de la ligne correspondante. Enfin, nous affichons les résultats et mesurons le temps d'exécution du programme."
   ]
  },
  {
   "cell_type": "code",
   "execution_count": 22,
   "metadata": {},
   "outputs": [
    {
     "name": "stdout",
     "output_type": "stream",
     "text": [
      "[(\"\\x1a;#t <5 t <1t$5& -t='t>!9$=:3^\", 170), ('Now that the party is jumping\\n', 170), (\"×,;d\\x19 În\\tg\\x0687\\x13|\\x03\\x19f  \\x00'#=ÑT#\\x0c8 \", 181)]\n",
      "--- 0.1369314193725586 seconds ---\n"
     ]
    }
   ],
   "source": [
    "import os \n",
    "import time\n",
    "\n",
    "start_time = time.time()\n",
    "\n",
    "# L'import du fichier a été légèrement modifié pour fonctionner avec Jupyter Notebook\n",
    "file_path = os.path.join(os.getcwd(), 'Cryptopals/Set_1/dat_4.txt')\n",
    "\n",
    "with open(file_path, 'r') as r:\n",
    "    input_hex = r.read().splitlines()\n",
    "alphabet = \"abcdefghijklmnopqrstuvwxyzABCDEFGHIJKLMNOPQRSTUVWXYZ123456789\"\n",
    "\n",
    "\n",
    "def print_xored_input_from_alphabet(input_hex, alphabet):\n",
    "    xor_array = []\n",
    "    for letter in alphabet:\n",
    "        for i in range(len(input_hex)):\n",
    "            xored_input = \"\"\n",
    "            for j in range(0, len(input_hex[i]), 2):\n",
    "                xored_input += chr(int(input_hex[i][j:j+2], 16) ^ ord(letter))\n",
    "            if xored_input.count(\" \") > 3:\n",
    "                xored_input = xor_array.append((xored_input, i))\n",
    "    return xor_array\n",
    "\n",
    "print((print_xored_input_from_alphabet(input_hex, alphabet)))\n",
    "\n",
    "print(\"--- %s seconds ---\" % (time.time() - start_time))"
   ]
  },
  {
   "cell_type": "markdown",
   "metadata": {},
   "source": [
    "## Implement repeating-key XOR\n",
    "Nous avons écrit ce code pour chiffrer un texte en utilisant un XOR avec une clé répétitive. Le texte à chiffrer est stocké dans ‘input_text’, et la clé utilisée est ’ICE’.  \n",
    "Pour chaque caractère du texte, nous appliquons un XOR avec le caractère correspondant de la clé, en répétant cette dernière sur toute la longueur du texte. Chaque résultat est converti en hexadécimal et ajouté à la sortie. Une fois le chiffrement terminé, nous affichons le texte chiffré sous forme hexadécimale et mesurons le temps d’exécution du programme.\n"
   ]
  },
  {
   "cell_type": "code",
   "execution_count": 23,
   "metadata": {},
   "outputs": [
    {
     "name": "stdout",
     "output_type": "stream",
     "text": [
      "0b3637272a2b2e63622c2e69692a23693a2a3c6324202d623d63343c2a26226324272765272a282b2f20430a652e2c652a3124333a653e2b2027630c692b20283165286326302e27282f\n",
      "--- 0.004373311996459961 seconds ---\n"
     ]
    }
   ],
   "source": [
    "import time\n",
    "\n",
    "input_text = \"\"\"Burning 'em, if you ain't quick and nimble\n",
    "I go crazy when I hear a cymbal\"\"\"\n",
    "key = \"ICE\"\n",
    "\n",
    "start_time = time.time()\n",
    "\n",
    "def repeating_key_XOR(text, key):\n",
    "    output = \"\" \n",
    "    for i in range(len(text)):\n",
    "        output += format(ord(text[i]) ^ ord(key[i % len(key)]), '02x')\n",
    "    return output\n",
    "\n",
    "print(repeating_key_XOR(input_text, key))\n",
    "\n",
    "print(\"--- %s seconds ---\" % (time.time() - start_time))"
   ]
  },
  {
   "cell_type": "markdown",
   "metadata": {},
   "source": [
    "## Break repeating-key XOR\n",
    "Nous avons écrit ce code pour tenter de résoudre un challenge de cryptographie où un texte a été chiffré avec un XOR utilisant une clé répétitive. Le fichier ‘dat_6.txt’ contient une chaîne encodée en base64, que nous décodons et utilisons pour déterminer la clé et déchiffrer le texte. Tout d'abord, nous ouvrons le fichier, lisons toutes les lignes et les concaténons pour former une seule chaîne base64, puis nous la décodons en texte brut avec ‘base64.b64decode()’.\n",
    "\n",
    "Ensuite, nous définissons une fonction ‘hamming_distance()’ pour calculer la distance de Hamming entre deux chaînes de texte, c’est-à-dire le nombre de bits différents entre elles. Cette mesure est utile pour analyser les clés de chiffrement répétitives. Nous utilisons cette fonction dans ‘find_keysize()’, où nous testons différentes tailles de clés de 2 à 40 pour identifier celle qui minimise la distance de Hamming entre les blocs de texte. Une petite distance suggère une clé répétitive régulière.\n",
    "\n",
    "La fonction ‘decrypt()’ est définie mais non implémentée dans ce code. Une fois la taille de la clé identifiée, cette fonction devrait appliquer un XOR avec la clé répétitive pour déchiffrer le texte. Enfin, nous affichons la distance de Hamming entre deux chaînes d'exemple, la taille de la clé estimée, et en théorie, le texte déchiffré si ‘decrypt()’ était complété. Le temps d'exécution du programme est également mesuré."
   ]
  },
  {
   "cell_type": "code",
   "execution_count": 24,
   "metadata": {},
   "outputs": [
    {
     "name": "stdout",
     "output_type": "stream",
     "text": [
      "37\n",
      "--- 0.0010142326354980469 seconds ---\n"
     ]
    }
   ],
   "source": [
    "import time\n",
    "import os\n",
    "import base64\n",
    "\n",
    "start_time = time.time()\n",
    "\n",
    "file_path = os.path.join(os.getcwd(), 'Cryptopals/Set_1/dat_6.txt')\n",
    "\n",
    "with open(file_path, 'r') as r:\n",
    "    array_input_b64 = r.read().splitlines()\n",
    "\n",
    "input_b64 = \"\"\n",
    "for x in array_input_b64:\n",
    "    input_b64 += x\n",
    "input_xor = base64.b64decode(input_b64)\n",
    "\n",
    "def hamming_distance(ref_text, text):\n",
    "    distance = 0\n",
    "    for i in range(len(ref_text)):\n",
    "        distance += bin(ord(ref_text[i]) ^ ord(text[i])).count('1')\n",
    "    return distance\n",
    "\n",
    "def find_keysize(text_input):\n",
    "    keysize = 0\n",
    "    min_distance = 1000\n",
    "    for i in range(2, 40):\n",
    "        distance = 0\n",
    "        for j in range(0, len(text_input), i):\n",
    "            distance += hamming_distance(text_input[j:j+i], text_input[j+i:j+2*i])\n",
    "        distance /= i\n",
    "        distance /= len(text_input) / i\n",
    "        if distance < min_distance:\n",
    "            min_distance = distance\n",
    "            keysize = i\n",
    "    return None\n",
    "\n",
    "def decrypt(b64_input, keysize):\n",
    "    pass\n",
    "\n",
    "print(hamming_distance(\"this is a test\", \"wokka wokka!!!\"))\n",
    "# print(find_keysize(input_b64))\n",
    "# print(decrypt(input_b64, find_keysize(input_b64)))\n",
    "print(\"--- %s seconds ---\" % (time.time() - start_time))"
   ]
  },
  {
   "cell_type": "markdown",
   "metadata": {},
   "source": [
    "## AES in ECB mode\n",
    "Nous avons écrit ce code pour déchiffrer un texte qui a été chiffré avec AES en mode ECB. Tout d'abord, nous avons défini la clé `YELLOW SUBMARINE` qui est utilisée pour initialiser le chiffreur AES. Ensuite, nous avons ouvert le fichier `encoded.txt` et lu son contenu dans la variable ‘encoded_data’. Puis, nous avons décodé le texte encodé en base64 avec ‘base64.b64decode()’, ce qui nous donne les données chiffrées sous forme de bytes. Enfin, nous avons utilisé AES pour déchiffrer ces données en mode ECB avec la clé fournie et obtenu le texte en clair. Le texte déchiffré a été affiché après avoir été décodé en UTF-8, en ignorant les erreurs de décodage.\n"
   ]
  },
  {
   "cell_type": "code",
   "execution_count": 25,
   "metadata": {},
   "outputs": [
    {
     "name": "stdout",
     "output_type": "stream",
     "text": [
      "Defaulting to user installation because normal site-packages is not writeable\n",
      "Requirement already satisfied: pycryptodome in c:\\users\\yoann\\appdata\\roaming\\python\\python312\\site-packages (3.21.0)\n",
      "I'm back and I'm ringin' the bell \n",
      "A rockin' on the mike while the fly girls yell \n",
      "In ecstasy in the back of me \n",
      "Well that's my DJ Deshay cuttin' all them Z's \n",
      "Hittin' hard and the girlies goin' crazy \n",
      "Vanilla's on the mike, man I'm not lazy. \n",
      "\n",
      "I'm lettin' my drug kick in \n",
      "It controls my mouth and I begin \n",
      "To just let it flow, let my concepts go \n",
      "My posse's to the side yellin', Go Vanilla Go! \n",
      "\n",
      "Smooth 'cause that's the way I will be \n",
      "And if you don't give a damn, then \n",
      "Why you starin' at me \n",
      "So get off 'cause I control the stage \n",
      "There's no dissin' allowed \n",
      "I'm in my own phase \n",
      "The girlies sa y they love me and that is ok \n",
      "And I can dance better than any kid n' play \n",
      "\n",
      "Stage 2 -- Yea the one ya' wanna listen to \n",
      "It's off my head so let the beat play through \n",
      "So I can funk it up and make it sound good \n",
      "1-2-3 Yo -- Knock on some wood \n",
      "For good luck, I like my rhymes atrocious \n",
      "Supercalafragilisticexpialidocious \n",
      "I'm an effect and that you can bet \n",
      "I can take a fly girl and make her wet. \n",
      "\n",
      "I'm like Samson -- Samson to Delilah \n",
      "There's no denyin', You can try to hang \n",
      "But you'll keep tryin' to get my style \n",
      "Over and over, practice makes perfect \n",
      "But not if you're a loafer. \n",
      "\n",
      "You'll get nowhere, no place, no time, no girls \n",
      "Soon -- Oh my God, homebody, you probably eat \n",
      "Spaghetti with a spoon! Come on and say it! \n",
      "\n",
      "VIP. Vanilla Ice yep, yep, I'm comin' hard like a rhino \n",
      "Intoxicating so you stagger like a wino \n",
      "So punks stop trying and girl stop cryin' \n",
      "Vanilla Ice is sellin' and you people are buyin' \n",
      "'Cause why the freaks are jockin' like Crazy Glue \n",
      "Movin' and groovin' trying to sing along \n",
      "All through the ghetto groovin' this here song \n",
      "Now you're amazed by the VIP posse. \n",
      "\n",
      "Steppin' so hard like a German Nazi \n",
      "Startled by the bases hittin' ground \n",
      "There's no trippin' on mine, I'm just gettin' down \n",
      "Sparkamatic, I'm hangin' tight like a fanatic \n",
      "You trapped me once and I thought that \n",
      "You might have it \n",
      "So step down and lend me your ear \n",
      "'89 in my time! You, '90 is my year. \n",
      "\n",
      "You're weakenin' fast, YO! and I can tell it \n",
      "Your body's gettin' hot, so, so I can smell it \n",
      "So don't be mad and don't be sad \n",
      "'Cause the lyrics belong to ICE, You can call me Dad \n",
      "You're pitchin' a fit, so step back and endure \n",
      "Let the witch doctor, Ice, do the dance to cure \n",
      "So come up close and don't be square \n",
      "You wanna battle me -- Anytime, anywhere \n",
      "\n",
      "You thought that I was weak, Boy, you're dead wrong \n",
      "So come on, everybody and sing this song \n",
      "\n",
      "Say -- Play that funky music Say, go white boy, go white boy go \n",
      "play that funky music Go white boy, go white boy, go \n",
      "Lay down and boogie and play that funky music till you die. \n",
      "\n",
      "Play that funky music Come on, Come on, let me hear \n",
      "Play that funky music white boy you say it, say it \n",
      "Play that funky music A little louder now \n",
      "Play that funky music, white boy Come on, Come on, Come on \n",
      "Play that funky music \n",
      "\u0004\u0004\u0004\u0004\n"
     ]
    },
    {
     "name": "stderr",
     "output_type": "stream",
     "text": [
      "\n",
      "[notice] A new release of pip is available: 25.0 -> 25.0.1\n",
      "[notice] To update, run: python.exe -m pip install --upgrade pip\n"
     ]
    }
   ],
   "source": [
    "import sys\n",
    "!{sys.executable} -m pip install pycryptodome\n",
    "\n",
    "from Crypto.Cipher import AES\n",
    "import base64\n",
    "import os\n",
    "\n",
    "key = b'YELLOW SUBMARINE'\n",
    "\n",
    "file_path = os.path.join(os.getcwd(), 'Cryptopals/Set_1/Ex_7/encoded.txt')\n",
    "\n",
    "with open(file_path, 'r') as r:\n",
    "    encoded_data = r.read()\n",
    "\n",
    "ciphertext = base64.b64decode(encoded_data)\n",
    "\n",
    "cipher = AES.new(key, AES.MODE_ECB)\n",
    "plaintext = cipher.decrypt(ciphertext)\n",
    "\n",
    "decrypted_text = plaintext.decode('utf-8', errors='ignore')\n",
    "print(decrypted_text)\n"
   ]
  },
  {
   "cell_type": "markdown",
   "metadata": {},
   "source": [
    "## Detect AES in ECB mode\n",
    "\n",
    "Nous avons écrit ce code pour détecter les textes chiffrés en mode ECB. Le fichier ‘encoded_cyphertext.txt’ contient plusieurs textes chiffrés en hexadécimal, et l’objectif est d’identifier celui qui présente des blocs répétés, une caractéristique typique du mode ECB. Pour cela, nous avons d'abord ouvert le fichier et lu chaque ligne. \n",
    "\n",
    "Ensuite, pour chaque ligne, nous avons converti le texte hexadécimal en bytes et séparé les données en blocs de 16 octets. Nous avons compté le nombre de blocs répétés en comparant l’ensemble des blocs à leur version sans doublons. \n",
    "\n",
    "Plus il y a de répétitions, plus il y a de chances que ce soit du mode ECB. Nous avons ensuite trié les résultats pour afficher celui avec le plus grand nombre de répétitions. Si un texte est détecté comme étant chiffré en ECB, nous avons affiché la ligne concernée avec le nombre de répétitions.\n"
   ]
  },
  {
   "cell_type": "code",
   "execution_count": 26,
   "metadata": {},
   "outputs": [
    {
     "name": "stdout",
     "output_type": "stream",
     "text": [
      "A la ligne 133 avec 3 répétition, il se peut que ça soit de l'ECB :\n",
      "d880619740a8a19b7840a8a31c810a3d08649af70dc06f4fd5d2d69c744cd283e2dd052f6b641dbf9d11b0348542bb5708649af70dc06f4fd5d2d69c744cd2839475c9dfdbc1d46597949d9c7e82bf5a08649af70dc06f4fd5d2d69c744cd28397a93eab8d6aecd566489154789a6b0308649af70dc06f4fd5d2d69c744cd283d403180c98c8f6db1f2a3f9c4040deb0ab51b29933f2c123c58386b06fba186a\n"
     ]
    }
   ],
   "source": [
    "from collections import Counter\n",
    "import os\n",
    "# Détecte les blocs de 16 bytes répétés dans un cyphertexte\n",
    "def detect_ecb(ciphertexts):\n",
    "    ecb_candidates = []\n",
    "    for i, hex_ct in enumerate(ciphertexts):\n",
    "        raw_ct = bytes.fromhex(hex_ct)  # Convertit le hex en bytes\n",
    "        blocks = [raw_ct[j:j+16] for j in range(0, len(raw_ct), 16)]  # sépare en des blocs de 16 bytes\n",
    "        num_repeats = len(blocks) - len(set(blocks))  \n",
    "        if num_repeats > 0:  # Plus ça se répète plus il y a de chances que ce soit du ECB\n",
    "            ecb_candidates.append((i, num_repeats, hex_ct))\n",
    "    \n",
    "    # Trie par celui qui a le plus de répétitions\n",
    "    ecb_candidates.sort(key=lambda x: x[1], reverse=True)\n",
    "    return ecb_candidates\n",
    "\n",
    "\n",
    "file_path = os.path.join(os.getcwd(), 'Cryptopals/Set_1/Ex_8/encoded_cyphertext.txt')\n",
    "\n",
    "with open(file_path, \"r\") as f:\n",
    "    hex_ciphertexts = f.read().splitlines()\n",
    "\n",
    "# Détecte le cyphertexte crypté en ECD\n",
    "ecb_detected = detect_ecb(hex_ciphertexts)\n",
    "\n",
    "# Affiche la ligne ECD\n",
    "if ecb_detected:\n",
    "    line_number, repeats, ciphertext = ecb_detected[0]\n",
    "    print(f\"A la ligne {line_number + 1} avec {repeats} répétition, il se peut que ça soit de l'ECB :\")\n",
    "    print(ciphertext)\n",
    "else:\n",
    "    print(\"Pas d'ECB détecté\")\n"
   ]
  },
  {
   "cell_type": "markdown",
   "metadata": {},
   "source": [
    "# El Manifesto\n",
    "Pour décoder le message, nous avons d'abord déterminé la longueur de sa clé. En utilisant une plateforme en ligne, nous avons pu identifier les deux premières lettres, ce qui nous a permis de progresser plus rapidement en devinant le premier mot, \"Ce\".  \n",
    "\n",
    "Nous avons ensuite modifié un script trouvé sur GitHub (size_key.py), conçu pour compléter une clé partiellement connue en s'appuyant sur le texte déjà déchiffré. Grâce à cet outil, nous avons identifié \"GuardiaLyon\" comme clé probable. En affinant notre recherche à l'aide d'une autre plateforme de déchiffrement, nous avons confirmé que la clé complète était \"GuardiaLyonGuardia\".  \n",
    "\n",
    "Enfin, en utilisant un script Python nommé decode_vigenere.py (le même que dans la section vigenère), nous avons réussi à déchiffrer l'intégralité du message.\n",
    "\n",
    "Explication du code pour trouver la clé (size_key) : \n",
    "\n",
    "→ Classe Decoder\n",
    "La classe Decoder est responsable du déchiffrement du texte chiffré en utilisant la méthode de chiffrement Vigenère.\n",
    "\n",
    "Fonctionnement du déchiffrement :\n",
    "decode_char(self, char, key_char) :\n",
    "\n",
    "Cette méthode déchiffre un caractère individuel en utilisant la méthode Vigenère. Le principe de base est de soustraire la valeur du caractère de la clé au caractère chiffré.\n",
    "alpha_start = 65 if char.isupper() else 97 : Le code ASCII de base est choisi en fonction de la casse du caractère (A-Z ou a-z).\n",
    "decrypted_ord = (ord(char) - ord(key_char)) % 26 + alpha_start : Le caractère chiffré est converti en un caractère déchiffré en soustrayant l'index du caractère de la clé et en utilisant l'opérateur modulo pour gérer le décalage.\n",
    "decode_cipher(self) :\n",
    "\n",
    "Cette méthode déchiffre tout le texte chiffré en itérant sur chaque caractère du texte chiffré.\n",
    "Le key_cycle est un générateur qui fournit les caractères de la clé de manière cyclique pour que chaque caractère du texte chiffré soit déchiffré avec un caractère de la clé correspondant.\n",
    "\n",
    "Si le caractère est alphabétique (lettre), la méthode decode_char() est appelée pour déchiffrer ce caractère.\n",
    "\n",
    "Si le caractère n'est pas alphabétique (comme un espace ou une ponctuation), il est simplement ajouté sans modification.\n",
    "\n",
    "→ Classe BruteForcer\n",
    "La classe BruteForcer tente de trouver la clé de déchiffrement en effectuant une recherche par force brute, en utilisant une partie du texte en clair que l'on connaît (comme un format de drapeau ou un mot clé connu).\n",
    "\n",
    "Fonctionnement de la recherche par force brute :\n",
    "brute_force_decode(self) :\n",
    "\n",
    "Cette méthode tente de déchiffrer le texte chiffré en générant des clés potentielles et en comparant chaque texte déchiffré avec une partie connue du texte en clair.\n",
    "\n",
    "known_text2 = \"\".join(filter(lambda x: x.isalpha(), self.known_text)) : Ce code filtre uniquement les caractères alphabétiques du texte connu, en supprimant la ponctuation et autres caractères non alphabétiques.\n",
    "\n",
    "Ensuite, pour chaque caractère du texte connu, il tente de bruteforcer la clé en ajoutant une lettre à la fois et en comparant le texte déchiffré avec le texte connu.\n",
    "\n",
    "Si une correspondance est trouvée, la clé est prolongée et la recherche continue jusqu'à ce que tout le texte soit déchiffré avec succès.\n",
    "\n",
    "Cette méthode génère de manière systématique toutes les combinaisons possibles de clés en ajoutant une lettre à la clé existante, puis déchiffre le texte à l'aide de la méthode decode_cipher() de la classe Decoder.\n",
    "\n",
    "itertools.product(string.ascii_lowercase, repeat=self.brute_digit) : Génère toutes les combinaisons de lettres possibles pour la prochaine lettre de la clé. Par exemple, pour repeat=1, cela générera a, b, c, etc.\n",
    "\n",
    "Pour chaque combinaison générée, elle est ajoutée à la clé existante et utilisée pour déchiffrer le texte. Si le texte déchiffré commence à correspondre au texte connu, la clé est considérée comme valide.\n",
    "→ Fonction main\n",
    "La fonction main coordonne le processus de décryptage en appelant les méthodes de la classe BruteForcer pour obtenir une clé de décryptage et en utilisant ensuite la classe Decoder pour déchiffrer le texte avec la clé trouvée.\n",
    "\n",
    "bruteForcer.brute_force_decode() : Cette méthode est appelée pour tenter de découvrir la clé de déchiffrement en utilisant une partie connue du texte clair.\n",
    "\n",
    "decoder.decode_cipher() : Une fois la clé trouvée, cette méthode déchiffre le texte complet avec la clé trouvée.\n",
    "\n",
    "bruteForcer.bruteforce() : Si l'utilisateur souhaite continuer à chercher par force brute, cette méthode sera utilisée pour générer des clés supplémentaires et déchiffrer le texte.\n",
    "\n",
    "Enfin, le code envoie les résultats de sa recherche, même si infructueuse. Le code déchiffré correspond au manifeste du hacker. L'entièreté de ce texte est placée sur le répertoire Github. \n"
   ]
  },
  {
   "cell_type": "code",
   "execution_count": 17,
   "metadata": {},
   "outputs": [
    {
     "name": "stdout",
     "output_type": "stream",
     "text": [
      "CE QuI sUit A EtE ECRIT pEU DE tEmps AprEs MON arREStATion...\n"
     ]
    }
   ],
   "source": [
    "import itertools\n",
    "\n",
    "def vigenere_decrypt(ciphertext, key):\n",
    "    alphabet = \"ABCDEFGHIJKLMNOPQRSTUVWXYZabcdefghijklmnopqrstuvwxyz\"\n",
    "    decrypted_text = []\n",
    "    key_indices = [alphabet.index(k) for k in key]\n",
    "    key_cycle = itertools.cycle(key_indices)\n",
    "    \n",
    "    for char in ciphertext:\n",
    "        if char in alphabet:\n",
    "            shift = next(key_cycle)\n",
    "            index = (alphabet.index(char) - shift) % len(alphabet)\n",
    "            decrypted_text.append(alphabet[index])\n",
    "        else:\n",
    "            decrypted_text.append(char)\n",
    "    \n",
    "    return \"\".join(decrypted_text)\n",
    "\n",
    "ciphertext = \"\"\"Iy qll autr o rzy etuqt vyu uh bexng nvlej pwn glrvvbaegca...\"\"\"\n",
    "key = \"GuardiaLyonGuardia\"\n",
    "\n",
    "decrypted_text = vigenere_decrypt(ciphertext, key)\n",
    "print(decrypted_text)\n"
   ]
  },
  {
   "cell_type": "markdown",
   "metadata": {},
   "source": [
    "# Carré de Polybe \n",
    "\n",
    "Le code que nous avons réalisé nous permet de déchiffrer un message codé à l’aide du carré de Polybe. Nous commençons par définir une fonction qui génère ce carré à partir d’une clé donnée. \n",
    "\n",
    "Cette clé est une grille de 5x5 contenant des lettres spécifiques, ce qui nous permet d’attribuer à chaque lettre une paire de chiffres correspondant à sa position dans la grille. Pour faciliter la recherche, nous stockons ces paires sous forme de dictionnaire, où chaque combinaison de chiffres est associée à la lettre correspondante.\n",
    "\n",
    "Ensuite, nous avons une fonction de déchiffrement qui prend un message chiffré et le transforme en texte lisible. Nous nettoyons d’abord le message en supprimant les espaces et les retours à la ligne afin d’avoir une suite continue de nombres. \n",
    "\n",
    "Ensuite, nous parcourons ce message deux chiffres à la fois, car chaque paire représente une lettre dans le carré de Polybe. À chaque itération, nous vérifions si la paire existe dans notre dictionnaire et, si c’est le cas, nous ajoutons la lettre correspondante au texte déchiffré.\n",
    "\n",
    "Enfin, nous appelons notre fonction de génération du carré de Polybe, puis utilisons la fonction de déchiffrement avec le message codé fourni. Le résultat est affiché sous forme de texte lisible, révélant ainsi le message original caché derrière les chiffres.\n",
    "\n",
    "Le message déchiffré correspond à une partie de la chanson \"Les Nains sous la Montagne\" de Naheulband. "
   ]
  },
  {
   "cell_type": "code",
   "execution_count": 18,
   "metadata": {},
   "outputs": [
    {
     "name": "stdout",
     "output_type": "stream",
     "text": [
      "Message déchiffré : VOICILHISTOIREDUNNAINCAPABLEDECOURIRVDHYPBTPJYPZRZOGPFZPDYGXCARFRFGBJBTRBJJBTPJVPHAPJYPJBBJFJVTPJRFGPEVBHDRPECATPXPYRVTCGPDGRUJRFKRUXCVPFBBJEPASCEUJDLASURFACEALLEZCHAUFFEGIMLICHAUFFEUNIOURMONANCETREGURDILFUTENVOYECREUSERDANSLAFORETYAVAITSOITDISANTDUMITHRILSIYENAVAITONSAITPASOUILSTROUVAITILFITSACABANEENBORDUREDUNBOISTOUFFUPEUPLEDELFESSYLVAINSDESGENSQUIBOUFFENTDELAVERDUREEVIDEMMENTCANFAITPASDESBONSVOISINSNOUSSOMMESLESNAINSSOUSLAMONTAGNEONCREUSELEIOURONBOITLANUITETONNAIMEPASCEUJDLASURFACEHELEZCHAUFFEGIMLICHAUFFEUNIOURMONANCETREGURDILFUTENVOYECREUSERDANSLAFORETYAVAITSOITDISANTDUMITHRILSIYENAVAITONSAITPASOUILSTROUVAITILFITSACABANEENBORDUREDUNBOISTOUFFUPEUPLEDELFESSYLVAINSDESGENSQUIBOUFFENTDELAVERDUREEVIDEMMENTCANFAITPASDESBONSVOISINSNOUSSOMMESLESNAINSSOUSLAMONTAGNEONCREUSELEIOURONBOITLANUITETONNAIMEPASCEUJDLASURFACEAHBAHCACESTSURHEINCOURANTATRAVERSLESFOUGERESILARRIVAPRESDUNVILLAGEHUMAINBIENSURQUONYVENDAITDLABIEREMAISAUCUNHOMMENEVOULAITSERVIRUNNAINGURDILMASSACRALEPATRONDUNETAVERNEACOUPSDETABOURETPUISILRENTRAALAMAISONETDELAMINEILNEREPARTITIAMAISNOUSSOMMESLESNAINSSOUSLAMONTAGNEONCREUSELEIOURONBOITLANUITETONNAIMEPASCEUJDLASURFACEAMISRESTONSBIENALABRIMANGEONSBUVONSDANSNOSMAISONSDEPIERRESLAHAUTCESTPEUPLEDABRUTISALLEZPATRONRESSERSDONCUNEBIEREETCESTPARTINOUSSOMMESLESNAINSSOUSLAMONTAGNEONCREUSELEIOURONBOITLANUITETONNAIMEPASCEUJDLASURFACENOUSSOMMESLESNAINSSOUSLAMONTAGNEONCREUSELEIOURONBOITLANUITETONNAIMEPASCEUJDLASURFACE\n"
     ]
    }
   ],
   "source": [
    "def generer_carre_polybe():\n",
    "    cle = [\n",
    "        [\"C\", \"R\", \"Y\", \"P\", \"T\"],\n",
    "        [\"O\", \"G\", \"A\", \"H\", \"I\"],\n",
    "        [\"E\", \"B\", \"D\", \"F\", \"K\"],\n",
    "        [\"L\", \"M\", \"N\", \"Q\", \"S\"],\n",
    "        [\"U\", \"V\", \"X\", \"J\", \"Z\"]\n",
    "    ]\n",
    "    carre = {}\n",
    "    for i in range(5):\n",
    "        for j in range(5):\n",
    "            carre[f\"{i+1}{j+1}\"] = cle[i][j]\n",
    "    return carre\n",
    "\n",
    "\n",
    "def dechiffrer_polybe(message, carre):\n",
    "    texte_dechiffre = \"\"\n",
    "    message = message.replace(\"\\n\", \"\").replace(\" \", \"\")  # Nettoyage du message\n",
    "    for i in range(0, len(message), 2):\n",
    "        pair = message[i:i+2]\n",
    "        if pair in carre:\n",
    "            texte_dechiffre += carre[pair]\n",
    "    return texte_dechiffre\n",
    "\n",
    "\n",
    "# Message chiffré (à insérer ici)\n",
    "message_chiffre = \"52212511254124254515212512313351434323254311231423324131333111215112251252332413143215145413145512552122143455143313225311231234123422325432151232545432151454521424231454131454323254345452151454123422143152322433121431112315145314131252151122143322125154123435125153115214343232543114234511315154334123455112342311312341413155112423513434312225424125112423513434315143252151124221432343113115123122511233254134511531435221133111123151453112332343454123342112311513235223251545212515332545234315335142251524122541452513314323522325152143452325151423452151254145151221515223251525413425154523112332234331314332211233511231335143322125451521513434511431511441313331413431454513415223254345333145223143454451253221513434314315333141235231123351123131522533314242314315112343342325151423453331453221434552212545254345432151454521424231454131454323254345452151454123422143152322433121431112315145314131252151122143322125154123435125153115214343232542311423451131515433412345511234231131243141315511242351343431222542412511242351343431514325215112422143234311311512312251123325413451153143522113311112315145311233234345412334211231151323522325154521251533254523431533514225152412254145251331432352232515214345232515142345215125414515122151522325152541342515452311233223433131433221123351123133514332212545152151343451143151144131333141343145451341522325434533314522314345445125322151343431431533314123523112335112313152253331424231431511234334232515142345333145322143455221254525434543215145452142423145413145432325434545215145412342214315232243312143111231514531413125215112214332212515412343512515311521434323254231142345113151543341234551123423113123243223241123113145154551122431254311215112234315231512235231124541314534215122311231452541231212255223141231453351435225414123223124514223254332253143455112445121431352314333232515334123322531123142232545235111514324214242314331522151412325154531125225125143432325432251123325414223454523111223413114231512214333514331152352311243312311215114453331152332215112311514512545254112314315122323412342232545214331153331412342254331254143311231142312152515252342232545432151454521424231454131454323254345452151454123422143152322433121431112315145314131252151122143322125154123435125153115214343232542311423451131515433412345511234231131234225451231451521434532253143234123321225422343223121434532515221434533234345432145422325452143453331142531121231454123242351151131451514315114413133233212511525452341413155142315122143123145453112453321431151433132253112313115113145151423121525432151454521424231454131454323254345452151454123422143152322433121431112315145314131252151122143322125154123435125153115214343232542311423451131515433412345511234231131432151454521424231454131454323254345452151454123422143152322433121431112315145314131252151122143322125154123435125153115214343232542311423451131515433412345511234231131\"\n",
    "\n",
    "# Génération du carré de Polybe avec la clé fournie\n",
    "carre_polybe = generer_carre_polybe()\n",
    "\n",
    "# Déchiffrement du message\n",
    "message_dechiffre = dechiffrer_polybe(message_chiffre, carre_polybe)\n",
    "print(\"Message déchiffré :\", message_dechiffre)\n"
   ]
  }
 ],
 "metadata": {
  "kernelspec": {
   "display_name": "Python 3",
   "language": "python",
   "name": "python3"
  },
  "language_info": {
   "codemirror_mode": {
    "name": "ipython",
    "version": 3
   },
   "file_extension": ".py",
   "mimetype": "text/x-python",
   "name": "python",
   "nbconvert_exporter": "python",
   "pygments_lexer": "ipython3",
   "version": "3.12.5"
  }
 },
 "nbformat": 4,
 "nbformat_minor": 2
}
